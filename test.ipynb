{
 "cells": [
  {
   "cell_type": "code",
   "execution_count": 60,
   "metadata": {},
   "outputs": [
    {
     "name": "stdout",
     "output_type": "stream",
     "text": [
      "tensor(4.1850)\n"
     ]
    }
   ],
   "source": [
    "import torch.nn as nn\n",
    "import torch.nn.functional as F\n",
    "\n",
    "device = 'cpu'\n",
    "batch_size = 32\n",
    "\n",
    "temp = 0.7\n",
    "N = 2 * batch_size\n",
    "\n",
    "z_i, z_j = F.normalize(torch.randn(batch_size, 100)), F.normalize(torch.randn(batch_size, 100))\n",
    "z = torch.cat((z_i, z_j), dim=0)\n",
    "\n",
    "sim = torch.exp(torch.mm(z, z.t()) / temp)\n",
    "\n",
    "mask = ~torch.eye(N, device=device).bool()\n",
    "negatives = sim.masked_select(mask).view(N, -1)\n",
    "negatives = torch.sum(negatives, dim=-1)\n",
    "\n",
    "positives = torch.exp(torch.sum(z_i * z_j, dim=-1) / temp)\n",
    "positives = torch.cat([positives, positives])\n",
    "\n",
    "loss = -torch.log(positives / negatives)\n",
    "loss = torch.mean(loss)\n"
   ]
  },
  {
   "cell_type": "code",
   "execution_count": null,
   "metadata": {},
   "outputs": [],
   "source": []
  }
 ],
 "metadata": {
  "interpreter": {
   "hash": "40d3a090f54c6569ab1632332b64b2c03c39dcf918b08424e98f38b5ae0af88f"
  },
  "kernelspec": {
   "display_name": "Python 3.8.8 64-bit ('base': conda)",
   "language": "python",
   "name": "python3"
  },
  "language_info": {
   "codemirror_mode": {
    "name": "ipython",
    "version": 3
   },
   "file_extension": ".py",
   "mimetype": "text/x-python",
   "name": "python",
   "nbconvert_exporter": "python",
   "pygments_lexer": "ipython3",
   "version": "3.8.8"
  },
  "orig_nbformat": 4
 },
 "nbformat": 4,
 "nbformat_minor": 2
}
