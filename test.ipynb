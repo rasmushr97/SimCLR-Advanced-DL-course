{
 "cells": [
  {
   "cell_type": "code",
   "execution_count": 68,
   "metadata": {},
   "outputs": [],
   "source": [
    "from simclr import SimCLR\n",
    "from data import create_cifar_train_loader\n",
    "import torch\n",
    "import torch.nn as nn\n",
    "from torchvision.models.resnet import resnet18"
   ]
  },
  {
   "cell_type": "code",
   "execution_count": 69,
   "metadata": {},
   "outputs": [
    {
     "name": "stdout",
     "output_type": "stream",
     "text": [
      "Files already downloaded and verified\n"
     ]
    },
    {
     "name": "stderr",
     "output_type": "stream",
     "text": [
      "Failed to detect the name of this notebook, you can set it manually with the WANDB_NOTEBOOK_NAME environment variable to enable code saving.\n",
      "\u001b[34m\u001b[1mwandb\u001b[0m: Currently logged in as: \u001b[33mrasmushr97\u001b[0m (use `wandb login --relogin` to force relogin)\n"
     ]
    },
    {
     "data": {
      "text/html": [
       "\n",
       "                    Syncing run <strong><a href=\"https://wandb.ai/rasmushr97/simclr/runs/2w0zzaeg\" target=\"_blank\">copper-cherry-4</a></strong> to <a href=\"https://wandb.ai/rasmushr97/simclr\" target=\"_blank\">Weights & Biases</a> (<a href=\"https://docs.wandb.com/integrations/jupyter.html\" target=\"_blank\">docs</a>).<br/>\n",
       "\n",
       "                "
      ],
      "text/plain": [
       "<IPython.core.display.HTML object>"
      ]
     },
     "metadata": {},
     "output_type": "display_data"
    },
    {
     "name": "stderr",
     "output_type": "stream",
     "text": [
      "Epoch: 1/1:   0%|          | 0/391 [00:00<?, ?it/s]"
     ]
    }
   ],
   "source": [
    "# load data\n",
    "dataloader = create_cifar_train_loader()\n",
    "\n",
    "# intialize model\n",
    "encoder = resnet18(pretrained=False)\n",
    "model = nn.Sequential(\n",
    "    encoder,\n",
    "    nn.Linear(1000, 1000, bias=False),\n",
    "    nn.ReLU(),\n",
    "    nn.Linear(1000, 128, bias=False),\n",
    ")\n",
    "\n",
    "# train model\n",
    "trainer = SimCLR(model)\n",
    "trainer.train(dataloader, epochs=1)"
   ]
  },
  {
   "cell_type": "code",
   "execution_count": null,
   "metadata": {},
   "outputs": [],
   "source": []
  }
 ],
 "metadata": {
  "interpreter": {
   "hash": "40d3a090f54c6569ab1632332b64b2c03c39dcf918b08424e98f38b5ae0af88f"
  },
  "kernelspec": {
   "display_name": "Python 3.8.8 64-bit ('base': conda)",
   "language": "python",
   "name": "python3"
  },
  "language_info": {
   "codemirror_mode": {
    "name": "ipython",
    "version": 3
   },
   "file_extension": ".py",
   "mimetype": "text/x-python",
   "name": "python",
   "nbconvert_exporter": "python",
   "pygments_lexer": "ipython3",
   "version": "3.8.8"
  },
  "orig_nbformat": 4
 },
 "nbformat": 4,
 "nbformat_minor": 2
}
